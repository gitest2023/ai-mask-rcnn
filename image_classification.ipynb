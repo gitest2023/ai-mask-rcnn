{
 "cells": [
  {
   "cell_type": "markdown",
   "metadata": {},
   "source": [
    "**<h1>Image Classification</h1>**"
   ]
  },
  {
   "cell_type": "markdown",
   "metadata": {},
   "source": [
    "**<h3>Packages</h3>**"
   ]
  },
  {
   "cell_type": "code",
   "execution_count": null,
   "metadata": {},
   "outputs": [],
   "source": [
    "import os\n",
    "import cv2\n",
    "from matplotlib import pyplot as plt\n",
    "import matplotlib.patches as patches\n",
    "from PIL import Image, ImageDraw, ImageFont\n",
    "import numpy as np\n",
    "import pandas as pd\n",
    "import seaborn as sn"
   ]
  },
  {
   "cell_type": "code",
   "execution_count": null,
   "metadata": {},
   "outputs": [],
   "source": [
    "# from tensorflow.python.keras.applications.resnet50 import ResNet50\n",
    "# from tensorflow.python.keras.applications.vgg16 import VGG16\n",
    "# from tensorflow.python.keras.preprocessing import image\n",
    "# from tensorflow.python.keras.applications.resnet50 import preprocess_input, decode_predictions\n",
    "from keras.applications.resnet50 import ResNet50, preprocess_input, decode_predictions\n",
    "from keras.applications.vgg16 import VGG16\n",
    "from keras.preprocessing import image\n",
    "import numpy as np"
   ]
  },
  {
   "cell_type": "markdown",
   "metadata": {},
   "source": [
    "**<h3>Loading Images</h3>**"
   ]
  },
  {
   "cell_type": "code",
   "execution_count": null,
   "metadata": {},
   "outputs": [],
   "source": [
    "import matplotlib.pyplot as plt\n",
    "images = {}\n",
    "all_image_paths = []\n",
    "for x in os.listdir(\"images\"):\n",
    "    images[x] = Image.open(\"images/\" + x)\n",
    "    all_image_paths.append(\"images/\" + x)\n",
    "    newsize = (224,224)\n",
    "    # display(images[x].resize(newsize))\n",
    "    im_array = np.asarray(images[x].resize(newsize))\n",
    "    plt.imshow(im_array)\n",
    "    plt.show()"
   ]
  },
  {
   "cell_type": "markdown",
   "metadata": {},
   "source": [
    "**<h3>Splitting Image Into Segments</h3>**"
   ]
  },
  {
   "cell_type": "code",
   "execution_count": null,
   "metadata": {},
   "outputs": [],
   "source": [
    "def split_img(img, num_rows, num_cols, newsize=(224, 224)):\n",
    "    # Get the dimensions of the original image\n",
    "    img_width, img_height = img.size\n",
    "\n",
    "    # Calculate the width and height of each ROI\n",
    "    roi_width = img_width // num_cols\n",
    "    roi_height = img_height // num_rows\n",
    "\n",
    "    segments = {}\n",
    "\n",
    "    for i in range(num_rows):\n",
    "        for j in range(num_cols):\n",
    "            # Calculate the coordinates for cropping\n",
    "            left = j * roi_width\n",
    "            upper = i * roi_height\n",
    "            right = left + roi_width\n",
    "            lower = upper + roi_height\n",
    "\n",
    "            # Crop and resize the ROI\n",
    "            roi = img.crop((left, upper, right, lower)).resize(newsize)\n",
    "            segments[i, j] = roi\n",
    "\n",
    "    return segments"
   ]
  },
  {
   "cell_type": "code",
   "execution_count": null,
   "metadata": {},
   "outputs": [],
   "source": [
    "img = images[list(images.keys())[0]]\n",
    "num_rows = 4\n",
    "num_cols = 4\n",
    "\n",
    "segments = split_img(img, num_rows, num_cols)\n",
    "for segment in segments.values():\n",
    "    display(segment)"
   ]
  },
  {
   "cell_type": "markdown",
   "metadata": {},
   "source": [
    "**<h3>Loading Pretrained Weights</h3>**"
   ]
  },
  {
   "cell_type": "code",
   "execution_count": null,
   "metadata": {},
   "outputs": [],
   "source": [
    "modelRN50 = ResNet50(weights='imagenet')\n",
    "modelV16 = VGG16(weights='imagenet')"
   ]
  },
  {
   "cell_type": "markdown",
   "metadata": {},
   "source": [
    "**<h3>Making Predictions</h3>**"
   ]
  },
  {
   "cell_type": "code",
   "execution_count": null,
   "metadata": {},
   "outputs": [],
   "source": [
    "def predict_paths(model, path, target_size):\n",
    "    predictions = []\n",
    "    for i in range(len(path)):\n",
    "        # Loading Image\n",
    "        img = image.load_img(path[i], target_size=target_size)\n",
    "        x = image.img_to_array(img)\n",
    "        x = np.expand_dims(x, axis=0)\n",
    "        x = preprocess_input(x)\n",
    "        \n",
    "        prediction = model.predict(x)\n",
    "        print('Predicted:', decode_predictions(prediction, top=3)[0])\n",
    "        predictions.append(prediction)\n",
    "    \n",
    "    return predictions"
   ]
  },
  {
   "cell_type": "code",
   "execution_count": null,
   "metadata": {},
   "outputs": [],
   "source": [
    "def predict_imgs(model, images, target_size):\n",
    "    predictions = []\n",
    "    for key, value in images.items():\n",
    "        x = images[key].resize(target_size)\n",
    "        x = image.img_to_array(x)\n",
    "        x = np.expand_dims(x, axis=0)\n",
    "        x = preprocess_input(x)\n",
    "        \n",
    "        prediction = model.predict(x)\n",
    "        print('Predicted:', decode_predictions(prediction, top=3)[0])\n",
    "        predictions.append(prediction)\n",
    "    \n",
    "    return predictions"
   ]
  },
  {
   "cell_type": "code",
   "execution_count": null,
   "metadata": {},
   "outputs": [],
   "source": [
    "resultRN50 = predict_imgs(modelRN50, segments, (224, 224))"
   ]
  },
  {
   "cell_type": "code",
   "execution_count": null,
   "metadata": {},
   "outputs": [],
   "source": [
    "resultV16 = predict_imgs(modelV16, segments, (224, 224))"
   ]
  },
  {
   "cell_type": "code",
   "execution_count": null,
   "metadata": {},
   "outputs": [],
   "source": [
    "def print_results(image_dict, result):\n",
    "    images = {}\n",
    "    i = 0\n",
    "    for key, image in image_dict.items():\n",
    "        print(\"Image {}: \".format(i+1))\n",
    "        display(image)\n",
    "        pred = decode_predictions(result[i], top=5)[0]\n",
    "        print(\"Image {} 's top 5 predictions are: \".format(i+1))\n",
    "        for j in range(len(pred)):\n",
    "            print(str(j+1) + \")\", pred[j][1], pred[j][2])\n",
    "        print(\" \")\n",
    "        i+=1"
   ]
  },
  {
   "cell_type": "markdown",
   "metadata": {},
   "source": [
    "**<h3>Displaying Results</h3>**"
   ]
  },
  {
   "cell_type": "code",
   "execution_count": null,
   "metadata": {},
   "outputs": [],
   "source": [
    "def display_results(image_dict, resultRN50, resultV16):\n",
    "    count = 0\n",
    "    for key, image in image_dict.items():\n",
    "        plt.figure(figsize=(10, 7))\n",
    "        plt.rcParams['figure.figsize'] = (10, 7) \n",
    "        plt.rcParams['axes.titlesize'] = 20\n",
    "        plt.subplot(1, 2, 1)\n",
    "        plt.title(\"ResNet50\")\n",
    "        \n",
    "        resnet_img = image.copy()\n",
    "        resnet_pred = decode_predictions(resultRN50[count], top=5)[0]\n",
    "\n",
    "        # Display the image\n",
    "        plt.imshow(resnet_img)\n",
    "        \n",
    "        # Create a bounding box around the whole image\n",
    "        ax = plt.gca()\n",
    "        rect = patches.Rectangle((0, 0), resnet_img.size[1], resnet_img.size[0], linewidth=3, edgecolor='g', facecolor='none')\n",
    "        ax.add_patch(rect)\n",
    "\n",
    "        # Add the best prediction text to the image with a green background and white font\n",
    "        _, best_label, best_score = resnet_pred[0]\n",
    "        annotation_text = f'{best_label}: {best_score:.2%}'\n",
    "        plt.annotate(annotation_text, xy=(10, 10), fontsize=16, color='white', backgroundcolor='green')\n",
    "\n",
    "        plt.axis('off')\n",
    "\n",
    "        plt.subplot(1, 2, 2)\n",
    "        plt.title(\"VGG16\")\n",
    "        plt.imshow(image)\n",
    "        \n",
    "        # Create a bounding box around the whole image for VGG16\n",
    "        ax2 = plt.gca()\n",
    "        rect2 = patches.Rectangle((0, 0), image.size[1], image.size[0], linewidth=3, edgecolor='g', facecolor='none')\n",
    "        ax2.add_patch(rect2)\n",
    "\n",
    "        # Add the best prediction text to the VGG16 image with a green background and white font\n",
    "        vgg_img = image.copy()\n",
    "        vgg_pred = decode_predictions(resultV16[count], top=5)[0]\n",
    "        _, best_label_vgg, best_score_vgg = vgg_pred[0]\n",
    "        annotation_text_vgg = f'{best_label_vgg}: {best_score_vgg:.2%}'\n",
    "        plt.annotate(annotation_text_vgg, xy=(10, 10), fontsize=16, color='white', backgroundcolor='green')\n",
    "\n",
    "        plt.axis('off')\n",
    "        plt.show()\n",
    "        count += 1"
   ]
  },
  {
   "cell_type": "code",
   "execution_count": null,
   "metadata": {},
   "outputs": [],
   "source": [
    "display_results(segments, resultRN50, resultV16)"
   ]
  },
  {
   "cell_type": "code",
   "execution_count": null,
   "metadata": {},
   "outputs": [],
   "source": [
    "print_results(segments, resultRN50)"
   ]
  },
  {
   "cell_type": "code",
   "execution_count": null,
   "metadata": {},
   "outputs": [],
   "source": [
    "print_results(segments, resultV16)"
   ]
  }
 ],
 "metadata": {
  "kernelspec": {
   "display_name": "summer_placement",
   "language": "python",
   "name": "python3"
  },
  "language_info": {
   "codemirror_mode": {
    "name": "ipython",
    "version": 3
   },
   "file_extension": ".py",
   "mimetype": "text/x-python",
   "name": "python",
   "nbconvert_exporter": "python",
   "pygments_lexer": "ipython3",
   "version": "3.8.10"
  },
  "orig_nbformat": 4
 },
 "nbformat": 4,
 "nbformat_minor": 2
}
